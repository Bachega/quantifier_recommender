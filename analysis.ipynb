{
 "cells": [
  {
   "cell_type": "markdown",
   "metadata": {},
   "source": [
    "Fit KNNRecommender and save the resulting Meta-Table and Model"
   ]
  },
  {
   "cell_type": "code",
   "execution_count": null,
   "metadata": {},
   "outputs": [],
   "source": [
    "from knn_recommender import KNNRecommender\n",
    "\n",
    "knn_recommender = KNNRecommender(supervised=True, _load=False)\n",
    "knn_recommender.fit(complete_data_path=\"./datasets/\", train_data_path=\"./data/train_data/\", test_data_path=\"./data/test_data/\")\n",
    "\n",
    "knn_recommender.save_meta_table(\"./recommender_data/knn_meta_table.h5\")\n",
    "knn_recommender.persist_model(\"./recommender_data/KNNRecommender.joblib\")"
   ]
  },
  {
   "cell_type": "markdown",
   "metadata": {},
   "source": [
    "Fit RegressionRecommender and save the resulting Meta-Table and Model"
   ]
  },
  {
   "cell_type": "code",
   "execution_count": null,
   "metadata": {},
   "outputs": [],
   "source": [
    "from regression_recommender import RegressionRecommender\n",
    "\n",
    "recommender = RegressionRecommender(supervised=True, _load=False)\n",
    "# recommender.fit(complete_data_path=\"./datasets/\", train_data_path=\"./data/train_data/\", test_data_path=\"./data/test_data/\")\n",
    "\n",
    "# recommender.save_meta_table(\"./recommender_data/regression_meta_table.h5\")\n",
    "# recommender.persist_model(\"./recommender_data/RegressionRecommender.joblib\")"
   ]
  },
  {
   "cell_type": "markdown",
   "metadata": {},
   "source": [
    "Evaluate QuantifierRecommender with Leave-One-Out"
   ]
  },
  {
   "cell_type": "code",
   "execution_count": null,
   "metadata": {},
   "outputs": [],
   "source": [
    "from regression_recommender import RegressionRecommender\n",
    "\n",
    "recommender = RegressionRecommender(supervised=True)\n",
    "# recommender.load_fit_meta_table(\"./recommender_data/meta_table.h5\")\n",
    "recommender_eval, quantifiers_eval = recommender.leave_one_out_evaluation(\"./plot_data/recommender_evaluation_table.csv\",\n",
    "                                                                          \"./plot_data/quantifiers_evaluation_table.csv\")"
   ]
  },
  {
   "cell_type": "markdown",
   "metadata": {},
   "source": [
    "Evaluate the KQuantifier for each dataset using APP"
   ]
  },
  {
   "cell_type": "code",
   "execution_count": null,
   "metadata": {},
   "outputs": [],
   "source": [
    "from k_quantifier import KQuantifier\n",
    "\n",
    "k_quantifier = KQuantifier()\n",
    "k_quantifier_eval = k_quantifier.evaluation(recommender_eval, quantifiers_eval, \"./plot_data/k_quantifier_evaluation_table.csv\")"
   ]
  },
  {
   "cell_type": "markdown",
   "metadata": {},
   "source": [
    "Join the Quantifiers Evaluation Table with the KQuantifier Evaluation Table"
   ]
  },
  {
   "cell_type": "code",
   "execution_count": null,
   "metadata": {},
   "outputs": [],
   "source": [
    "import pandas as pd\n",
    "\n",
    "complete_evaluation_table = pd.concat([quantifiers_eval, k_quantifier_eval], axis=0)\n",
    "complete_evaluation_table.to_csv(\"./plot_data/complete_evaluation_table.csv\", index=False)"
   ]
  },
  {
   "cell_type": "markdown",
   "metadata": {},
   "source": [
    "Example of using the KQuantifier"
   ]
  },
  {
   "cell_type": "code",
   "execution_count": null,
   "metadata": {},
   "outputs": [],
   "source": [
    "from k_quantifier import KQuantifier\n",
    "import pandas as pd\n",
    "import numpy as np\n",
    "from utils_ import load_train_test_data\n",
    "from sklearn.preprocessing import MinMaxScaler\n",
    "import pdb\n",
    "\n",
    "from sklearn.datasets import load_iris\n",
    "from sklearn.model_selection import train_test_split\n",
    "from sklearn.datasets import load_breast_cancer\n",
    "from sklearn.preprocessing import StandardScaler\n",
    "from sklearn.linear_model import LogisticRegression\n",
    "\n",
    "dataset = pd.read_csv(\"./datasets/AedesQuinx.csv\")\n",
    "scaler = MinMaxScaler()\n",
    "\n",
    "y = dataset.pop(dataset.columns[-1])\n",
    "y = y.to_numpy()\n",
    "X = dataset.to_numpy()\n",
    "# X = scaler.fit_transform(dataset)\n",
    "# X = np.c_[X, y]\n",
    "X_train, X_test, y_train, y_test = train_test_split(X, y, test_size=0.3, random_state=42)\n",
    "\n",
    "X_train2, y_train2, X_test2, y_test2 = load_train_test_data(dataset_name=\"AedesQuinx\",\n",
    "                                                            train_data_path=\"./data/train_data\",\n",
    "                                                            test_data_path=\"./data/test_data\")\n",
    "\n",
    "\n",
    "cancer = load_breast_cancer()\n",
    "\n",
    "# Features (X) and labels (y)\n",
    "X = cancer.data\n",
    "y = cancer.target\n",
    "\n",
    "# Split the dataset into training and test sets\n",
    "# test_size=0.2 means 20% of data will go to the test set, 80% to the train set\n",
    "X_train, X_test, y_train, y_test = train_test_split(X, y, test_size=0.2, random_state=42)\n",
    "\n",
    "# k_quantifier_median = KQuantifier(k=-1, method=\"median\")\n",
    "k_quantifier_weighted = KQuantifier(k=-1, method=\"weighted\")\n",
    "\n",
    "# k_quantifier_median.fit(X_train2, y_train2)\n",
    "k_quantifier_weighted.fit(X_train2, y_train2)\n"
   ]
  },
  {
   "cell_type": "code",
   "execution_count": null,
   "metadata": {},
   "outputs": [],
   "source": [
    "ranking = k_quantifier_weighted.predict(X_test2)"
   ]
  },
  {
   "cell_type": "code",
   "execution_count": null,
   "metadata": {},
   "outputs": [],
   "source": [
    "ranking"
   ]
  },
  {
   "cell_type": "code",
   "execution_count": null,
   "metadata": {},
   "outputs": [],
   "source": [
    "error_list = recommender_eval.loc['AedesQuinx']['predicted_ranking_error']\n",
    "k = 3\n",
    "error_list\n",
    "\n",
    "weight_list = [0.5, 0.3, 0.2]\n",
    "k_prev = [0.3, 0.26, 0.35]\n",
    "\n",
    "final_k_prev = np.sum(np.array(k_prev) * np.array(weight_list))"
   ]
  },
  {
   "cell_type": "code",
   "execution_count": null,
   "metadata": {},
   "outputs": [],
   "source": [
    "print(0.5 * 0.3 + 0.3 * 0.26 + 0.2 * 0.35)"
   ]
  },
  {
   "cell_type": "code",
   "execution_count": null,
   "metadata": {},
   "outputs": [],
   "source": [
    "final_k_prev"
   ]
  },
  {
   "cell_type": "code",
   "execution_count": null,
   "metadata": {},
   "outputs": [],
   "source": [
    "print(f\"MEDIAN: {k_quantifier_median.predict(X_test2)}\\nWEIGHTED: {k_quantifier_weighted.predict(X_test2)}\\nTRUE: {sum(y_test2)/len(y_test2)}\")"
   ]
  },
  {
   "cell_type": "code",
   "execution_count": null,
   "metadata": {},
   "outputs": [],
   "source": [
    "import pandas as pd\n",
    "\n",
    "k_eval = pd.read_csv(\"./plot_data/k_quantifier_evaluation_table.csv\")\n",
    "k_eval = k_eval[k_eval['dataset'] == 'AedesQuinx']\n",
    "k_eval = k_eval[k_eval['alpha'] == 0.11]\n",
    "k_eval"
   ]
  }
 ],
 "metadata": {
  "kernelspec": {
   "display_name": "Python 3",
   "language": "python",
   "name": "python3"
  },
  "language_info": {
   "codemirror_mode": {
    "name": "ipython",
    "version": 3
   },
   "file_extension": ".py",
   "mimetype": "text/x-python",
   "name": "python",
   "nbconvert_exporter": "python",
   "pygments_lexer": "ipython3",
   "version": "3.12.4"
  }
 },
 "nbformat": 4,
 "nbformat_minor": 2
}
