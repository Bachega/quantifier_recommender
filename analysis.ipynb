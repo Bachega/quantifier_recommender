{
 "cells": [
  {
   "cell_type": "code",
   "execution_count": 2,
   "metadata": {},
   "outputs": [],
   "source": [
    "import os\n",
    "import numpy as np\n",
    "import pandas as pd\n",
    "\n",
    "from quantifier_recommender import QuantifierRecommender\n",
    "\n",
    "quantifier_recommender = QuantifierRecommender()\n",
    "\n",
    "# quantifier_recommender.construct_meta_table(datasets_path=\"./datasets/\",\n",
    "#                                             train_data_path=\"./data/train_data/\",\n",
    "#                                             test_data_path=\"./data/test_data/\",\n",
    "#                                             supervised=True)\n",
    "\n",
    "# quantifier_recommender.evaluation_table.to_csv(\"./recommender_evaluation_table.csv\", index=False)\n",
    "# quantifier_recommender.meta_features_table.to_csv(\"./recommender_meta_features_table.csv\", index=False)\n",
    "\n",
    "df = pd.read_csv(\"./recommender_evaluation_table2.csv\")"
   ]
  },
  {
   "cell_type": "code",
   "execution_count": 6,
   "metadata": {},
   "outputs": [
    {
     "data": {
      "text/plain": [
       "str"
      ]
     },
     "execution_count": 6,
     "metadata": {},
     "output_type": "execute_result"
    }
   ],
   "source": [
    "df.iloc[0]['quantifier']"
   ]
  }
 ],
 "metadata": {
  "kernelspec": {
   "display_name": "Python 3",
   "language": "python",
   "name": "python3"
  },
  "language_info": {
   "codemirror_mode": {
    "name": "ipython",
    "version": 3
   },
   "file_extension": ".py",
   "mimetype": "text/x-python",
   "name": "python",
   "nbconvert_exporter": "python",
   "pygments_lexer": "ipython3",
   "version": "3.12.4"
  }
 },
 "nbformat": 4,
 "nbformat_minor": 2
}
