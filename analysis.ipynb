{
 "cells": [
  {
   "cell_type": "markdown",
   "metadata": {},
   "source": [
    "# KNNRecommender"
   ]
  },
  {
   "cell_type": "markdown",
   "metadata": {},
   "source": [
    "Fit KNNRecommender and save the resulting Meta-Table and Model"
   ]
  },
  {
   "cell_type": "code",
   "execution_count": null,
   "metadata": {},
   "outputs": [],
   "source": [
    "from qtfrecommender import KNNRecommender\n",
    "\n",
    "recommender = KNNRecommender(supervised=True, load_default=False, n_neighbors=1)\n",
    "\n",
    "recommender.fit(full_set_path=\"./data/full_set/\", train_set_path=\"./data/train_set/\", test_set_path=\"./data/test_set/\")\n",
    "# # recommender.fit(full_set_path=\"./data/train_set/\", train_set_path=\"./data/train_set/\", test_set_path=\"./data/test_set/\")\n",
    "recommender.save_meta_table(\"./qtfrecommender/methods/data/knn_meta_table.h5\")\n",
    "recommender.persist_model(\"./qtfrecommender/methods/data/KNNRecommender.joblib\")\n",
    "\n",
    "recommender = KNNRecommender(supervised=True, load_default=False, n_neighbors=3)\n",
    "recommender.fit(full_set_path=\"./data/full_set/\", train_set_path=\"./data/train_set/\", test_set_path=\"./data/test_set/\")\n",
    "recommender.persist_model(\"./qtfrecommender/methods/data/KNNRecommender_n_eq_3.joblib\")\n",
    "\n",
    "recommender = KNNRecommender(supervised=True, load_default=False, n_neighbors=5)\n",
    "recommender.fit(full_set_path=\"./data/full_set/\", train_set_path=\"./data/train_set/\", test_set_path=\"./data/test_set/\")\n",
    "recommender.persist_model(\"./qtfrecommender/methods/data/KNNRecommender_n_eq_5.joblib\")\n",
    "\n",
    "recommender = KNNRecommender(supervised=True, load_default=False, n_neighbors=7)\n",
    "recommender.fit(full_set_path=\"./data/full_set/\", train_set_path=\"./data/train_set/\", test_set_path=\"./data/test_set/\")\n",
    "recommender.persist_model(\"./qtfrecommender/methods/data/KNNRecommender_n_eq_7.joblib\")\n",
    "\n",
    "recommender = KNNRecommender(supervised=True, load_default=False, n_neighbors=9)\n",
    "recommender.fit(full_set_path=\"./data/full_set/\", train_set_path=\"./data/train_set/\", test_set_path=\"./data/test_set/\")\n",
    "recommender.persist_model(\"./qtfrecommender/methods/data/KNNRecommender_n_eq_9.joblib\")\n",
    "\n",
    "recommender = KNNRecommender(supervised=True, load_default=False, n_neighbors=11)\n",
    "recommender.fit(full_set_path=\"./data/full_set/\", train_set_path=\"./data/train_set/\", test_set_path=\"./data/test_set/\")\n",
    "recommender.persist_model(\"./qtfrecommender/methods/data/KNNRecommender_n_eq_11.joblib\")"
   ]
  },
  {
   "cell_type": "markdown",
   "metadata": {},
   "source": [
    "Using KNNRecommender"
   ]
  },
  {
   "cell_type": "code",
   "execution_count": null,
   "metadata": {},
   "outputs": [],
   "source": [
    "# from qtfrecommender import KNNRecommender\n",
    "# import pandas as pd\n",
    "\n",
    "# # When a KNNRecommender model is instantiated, it automatically loads\n",
    "# # the fitted model persisted on the previous step (with _load=True by default).\n",
    "# recommender = KNNRecommender()\n",
    "\n",
    "# df = pd.read_csv(\"./data/datasets/winetype.csv\")\n",
    "# X = df.drop(columns=[\"class\"]).values\n",
    "# y = df[\"class\"].values\n",
    "\n",
    "# # Returns two tuples: (quantifiers ranking), (quantifiers weight by their ARR).\n",
    "# # First quantifier is best, second quantifier is second best, and so on.\n",
    "# ranking, weights = recommender.recommend(X, y)\n",
    "\n",
    "# print(f\"Top 1: {ranking[0]} with Weight: {weights[0]}\")\n",
    "# print(f\"Top 2: {ranking[1]} with Weight: {weights[1]}\")\n",
    "# print(f\"Top 3: {ranking[2]} with Weight: {weights[2]}\")\n",
    "# print(f\"Full ranking: {ranking}\")\n",
    "# print(f\"Weights: {weights}\")"
   ]
  },
  {
   "cell_type": "markdown",
   "metadata": {},
   "source": [
    "# RegressionRecommender"
   ]
  },
  {
   "cell_type": "markdown",
   "metadata": {},
   "source": [
    "Fit RegressionRecommender and save the resulting Meta-Table and Model"
   ]
  },
  {
   "cell_type": "code",
   "execution_count": null,
   "metadata": {},
   "outputs": [],
   "source": [
    "from sklearn.ensemble import RandomForestRegressor\n",
    "from xgboost import XGBRegressor\n",
    "from sklearn.svm import SVR\n",
    "\n",
    "from qtfrecommender import RegressionRecommender\n",
    "\n",
    "\n",
    "recommender = RegressionRecommender(supervised=True, load_default=False, model=RandomForestRegressor(n_jobs=-1))\n",
    "recommender.fit(full_set_path=\"./data/full_set/\", train_set_path=\"./data/train_set/\", test_set_path=\"./data/test_set/\")\n",
    "# recommender.fit(full_set_path=\"./data/train_set/\", train_set_path=\"./data/train_set/\", test_set_path=\"./data/test_set/\")\n",
    "recommender.save_meta_table(\"./qtfrecommender/methods/data/regression_meta_table.h5\")\n",
    "recommender.persist_model(\"./qtfrecommender/methods/data/RegressionRecommender.joblib\")\n",
    "\n",
    "\n",
    "recommender = RegressionRecommender(supervised=True, load_default=False, model=XGBRegressor(n_jobs=-1))\n",
    "recommender.persist_model(\"./qtfrecommender/methods/data/RegressionRecommenderXGBOOST.joblib\")\n",
    "\n",
    "\n",
    "recommender = RegressionRecommender(supervised=True, load_default=False, model=SVR())\n",
    "recommender.persist_model(\"./qtfrecommender/methods/data/RegressionRecommenderSVR.joblib\")"
   ]
  },
  {
   "cell_type": "markdown",
   "metadata": {},
   "source": [
    "Using RegressionRecommender"
   ]
  },
  {
   "cell_type": "code",
   "execution_count": null,
   "metadata": {},
   "outputs": [],
   "source": [
    "# from qtfrecommender import RegressionRecommender\n",
    "# import pandas as pd\n",
    "\n",
    "# # When a RegressionRecommender model is instantiated, it automatically loads\n",
    "# # the fitted model persisted on the previous step (with _load=True by default).\n",
    "# recommender = RegressionRecommender()\n",
    "\n",
    "# df = pd.read_csv(\"./data/datasets/winetype.csv\")\n",
    "# X = df.drop(columns=[\"class\"]).values\n",
    "# y = df[\"class\"].values\n",
    "\n",
    "# # Returns two tuples: (quantifiers ranking), (quantifiers weight by their MAE).\n",
    "# # First quantifier is best, second quantifier is second best, and so on.\n",
    "# ranking, weights = recommender.recommend(X, y)\n",
    "\n",
    "# print(f\"Top 1: {ranking[0]} with Weight: {weights[0]}\")\n",
    "# print(f\"Top 2: {ranking[1]} with Weight: {weights[1]}\")\n",
    "# print(f\"Top 3: {ranking[2]} with Weight: {weights[2]}\")\n",
    "# print(f\"Full ranking: {ranking}\")\n",
    "# print(f\"Sum of weights: {sum(weights)}\")"
   ]
  },
  {
   "cell_type": "markdown",
   "metadata": {},
   "source": [
    "# EnsembleQuantifier"
   ]
  },
  {
   "cell_type": "markdown",
   "metadata": {},
   "source": [
    "You can use the resulting ranking from a recommender and feed it to the EnsembleQuantifier.\n",
    "\n",
    "For example, we can recommend a ranking of quantifiers for a dataset and then use an ensemble of the\n",
    "Top-k quantifiers to get the positive prevalence of the dataset."
   ]
  },
  {
   "cell_type": "code",
   "execution_count": null,
   "metadata": {},
   "outputs": [],
   "source": [
    "# from qtfrecommender import RegressionRecommender\n",
    "# from ensemble_quantifier import EnsembleQuantifier\n",
    "# from sklearn.model_selection import train_test_split\n",
    "# import pandas as pd\n",
    "# import numpy as np\n",
    "\n",
    "# # Let's load a dataset\n",
    "# df = pd.read_csv(\"./data/datasets/winetype.csv\")\n",
    "# X = df.drop(columns=[\"class\"]).values\n",
    "# y = df[\"class\"].values\n",
    "\n",
    "# # Instantiate a RegressionRecommender model\n",
    "# recommender = RegressionRecommender()\n",
    "\n",
    "# # We can use the recommender to get a ranking of quantifiers\n",
    "# ranking, weights = recommender.recommend(X, y)\n",
    "\n",
    "# # Let's instantiate an EnsembleQuantifier model\n",
    "# # and pass the ranking and the Top-k quantifiers to it.\n",
    "# # With k = 3, for example.\n",
    "# # Now, when we need to get predictions, an ensemble of the Top-3 will be used.\n",
    "# ensemble_qtf = EnsembleQuantifier(ranking=ranking)\n",
    "\n",
    "# # Split the data into train and test sets\n",
    "# X_train, X_test, y_train, y_test = train_test_split(X, y, test_size=0.3, random_state=42)\n",
    "\n",
    "# # Fit the ensemble model\n",
    "# ensemble_qtf.fit(X_train, y_train)\n",
    "\n",
    "# # Predict the positive prevalence of the test set\n",
    "# pred_prev = ensemble_qtf.predict(X_test)\n",
    "\n",
    "# # Compare the prediction with the truth\n",
    "# true_prev = np.sum(y_test) / len(y_test)\n",
    "\n",
    "# print(f\"{ensemble_qtf}\")\n",
    "# print(f\"True prevalence: {true_prev}\")\n",
    "# print(f\"Predicted prevalence: {pred_prev}\")\n",
    "\n",
    "# # We can change the method of the EnsembleQuantifier.\n",
    "# # Avaliable methods are the following:\n",
    "# # - \"median\": returns the median of the predictions\n",
    "# # - \"weighted\": returns the weighted average of the predictions\n",
    "# #\n",
    "# # Default is \"median\".\n",
    "\n",
    "# # Let's use the weighted method and pass the weights to the ensemble model.\n",
    "# ensemble_qtf.method = \"weighted\"\n",
    "# ensemble_qtf.weights = weights\n",
    "\n",
    "# # Model is already fitted, so we can predict again\n",
    "# pred_prev = ensemble_qtf.predict(X_test)\n",
    "\n",
    "# print(f\"\\n{ensemble_qtf}\")\n",
    "# print(f\"True prevalence: {true_prev}\")\n",
    "# print(f\"Predicted prevalence: {pred_prev}\")\n",
    "\n",
    "# # We can also recommend the top- with k = 3 and pass it to the ensemble model.\n",
    "# ranking, weights = recommender.recommend(X, y, k=3)\n",
    "\n",
    "# ensemble_qtf.ranking = ranking\n",
    "# ensemble_qtf.weights = weights\n",
    "\n",
    "# # Model is fitted, so we can just predict\n",
    "# pred_prev = ensemble_qtf.predict(X_test)\n",
    "\n",
    "# print(f\"\\n{ensemble_qtf}\")\n",
    "# print(f\"True prevalence: {true_prev}\")\n",
    "# print(f\"Predicted prevalence: {pred_prev}\")"
   ]
  },
  {
   "cell_type": "markdown",
   "metadata": {},
   "source": [
    "# Evaluation"
   ]
  },
  {
   "cell_type": "markdown",
   "metadata": {},
   "source": [
    "Evaluate RegressionRecommender with Leave-One-Out"
   ]
  },
  {
   "cell_type": "code",
   "execution_count": null,
   "metadata": {},
   "outputs": [],
   "source": [
    "# from qtfrecommender import RegressionRecommender\n",
    "\n",
    "# # There is a built-in method to evaluate the RegressionRecommender\n",
    "# # using the leave-one-out strategy. It excludes one instance from the\n",
    "# # meta-table and uses the remaining instances to fit the model. Then,\n",
    "# # it predicts the ranking of the excluded instance and appends the\n",
    "# # predicted ranking alongside the true ranking to the recommender evaluation table.\n",
    "# recommender = RegressionRecommender()\n",
    "# recommender.load_model()\n",
    "# reg_recommender_eval, reg_quantifiers_eval = recommender.leave_one_out_evaluation(\"./plot_data/reg_recommender_evaluation_table.csv\",\n",
    "#                                                                                   \"./plot_data/reg_quantifiers_evaluation_table.csv\")"
   ]
  },
  {
   "cell_type": "markdown",
   "metadata": {},
   "source": [
    "Evaluate KNNRecommender with Leave-One-Out"
   ]
  },
  {
   "cell_type": "code",
   "execution_count": null,
   "metadata": {},
   "outputs": [],
   "source": [
    "# from qtfrecommender import KNNRecommender\n",
    "\n",
    "# # There is a built-in method to evaluate the KNNRecommender\n",
    "# # using the leave-one-out strategy. It excludes one instance from the\n",
    "# # meta-table and uses the remaining instances to fit the model. Then,\n",
    "# # it predicts the ranking of the excluded instance and appends the\n",
    "# # predicted ranking alongside the true ranking to the recommender evaluation table.\n",
    "# recommender = KNNRecommender()\n",
    "# recommender.load_model()\n",
    "# knn_recommender_eval, knn_quantifiers_eval = recommender.leave_one_out_evaluation(\"./plot_data/knn_recommender_evaluation_table.csv\",\n",
    "#                                                                                   \"./plot_data/knn_quantifiers_evaluation_table.csv\")"
   ]
  },
  {
   "cell_type": "markdown",
   "metadata": {},
   "source": [
    "We can evaluate the EnsembleQuantifier with APP.\n",
    "\n",
    "APP is very costly, so we don't exactly run it again. Since our model is an ensemble, we reuse the recommender's and the quantifiers evaluation table generated by the recommender. (It will \"run\" the APP on the same datasets used to train the recommender)."
   ]
  },
  {
   "cell_type": "code",
   "execution_count": null,
   "metadata": {},
   "outputs": [],
   "source": [
    "# from ensemble_quantifier import EnsembleQuantifier\n",
    "\n",
    "# # We need the recommender evaluation table and the quantifiers evaluation table\n",
    "# # generated with the leave_one_out_evaluation method from the RegressionRecommender.\n",
    "# ensemble_qtf = EnsembleQuantifier()\n",
    "# ensemble_qtf.evaluation(\"regression\", reg_recommender_eval, reg_quantifiers_eval, \"./plot_data/reg_ensemble_quantifier_evaluation_table.csv\")\n",
    "# ensemble_qtf.evaluation(\"knn\", knn_recommender_eval, knn_quantifiers_eval, \"./plot_data/knn_ensemble_quantifier_evaluation_table.csv\")"
   ]
  }
 ],
 "metadata": {
  "kernelspec": {
   "display_name": ".venv",
   "language": "python",
   "name": "python3"
  },
  "language_info": {
   "codemirror_mode": {
    "name": "ipython",
    "version": 3
   },
   "file_extension": ".py",
   "mimetype": "text/x-python",
   "name": "python",
   "nbconvert_exporter": "python",
   "pygments_lexer": "ipython3",
   "version": "3.12.4"
  }
 },
 "nbformat": 4,
 "nbformat_minor": 2
}
