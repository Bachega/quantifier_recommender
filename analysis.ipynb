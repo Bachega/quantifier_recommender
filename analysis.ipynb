{
 "cells": [
  {
   "cell_type": "code",
   "execution_count": 1,
   "metadata": {},
   "outputs": [],
   "source": [
    "import os\n",
    "import numpy as np\n",
    "import pandas as pd\n",
    "\n",
    "from quantifier_recommender import QuantifierRecommender\n",
    "\n",
    "quantifier_recommender = QuantifierRecommender()\n",
    "\n",
    "# quantifier_recommender.construct_meta_table(datasets_path=\"./datasets/\",\n",
    "#                                             train_data_path=\"./data/train_data/\",\n",
    "#                                             test_data_path=\"./data/test_data/\",\n",
    "#                                             supervised=True)\n",
    "\n",
    "# quantifier_recommender.evaluation_table.to_csv(\"./recommender_evaluation_table.csv\", index=False)\n",
    "# quantifier_recommender.meta_features_table.to_csv(\"./recommender_meta_features_table.csv\", index=False)\n",
    "\n",
    "df = pd.read_csv(\"./recommender_evaluation_table2.csv\")"
   ]
  },
  {
   "cell_type": "code",
   "execution_count": 39,
   "metadata": {},
   "outputs": [
    {
     "data": {
      "text/plain": [
       "np.float64(0.0144999999999999)"
      ]
     },
     "execution_count": 39,
     "metadata": {},
     "output_type": "execute_result"
    }
   ],
   "source": [
    "df = pd.read_csv('./test.csv')\n",
    "\n",
    "iterables = [df['quantifier'].unique().tolist(), df['dataset'].unique().tolist()]\n",
    "index = pd.MultiIndex.from_product(iterables, names=[\"quantifier\", \"dataset\"])\n",
    "\n",
    "abs_error_list = df[\"abs_error\"].tolist()\n",
    "run_time_list = df[\"run_time\"].tolist()\n",
    "new_df = pd.DataFrame({\"abs_error\": abs_error_list, \"run_time\": run_time_list}, index=index)\n",
    "# df.pop('quantifier')\n",
    "# df.pop('dataset')\n",
    "\n",
    "# df\n",
    "\n",
    "new_df.loc['ACC', 'AedesSex']['abs_error']\n",
    "\n",
    "# X_train = meta_features.values\n",
    "# y_train = new_df.loc['DyS']['abs_error'].values\n",
    "\n",
    "# # CC\n",
    "# fit(X_train, y_train)\n",
    "\n",
    "# rec_dict = {\"CC\": rec, \"ACC\": rec}\n",
    "\n",
    "# dataset_novo -> extrai meta features -> linha de metafeatures\n",
    "\n",
    "\n",
    "\n",
    "\n",
    "# y_train\n",
    "# # # index.get_loc()"
   ]
  }
 ],
 "metadata": {
  "kernelspec": {
   "display_name": "Python 3",
   "language": "python",
   "name": "python3"
  },
  "language_info": {
   "codemirror_mode": {
    "name": "ipython",
    "version": 3
   },
   "file_extension": ".py",
   "mimetype": "text/x-python",
   "name": "python",
   "nbconvert_exporter": "python",
   "pygments_lexer": "ipython3",
   "version": "3.12.4"
  }
 },
 "nbformat": 4,
 "nbformat_minor": 2
}
