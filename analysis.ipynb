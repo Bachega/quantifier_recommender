{
 "cells": [
  {
   "cell_type": "code",
   "execution_count": 21,
   "metadata": {},
   "outputs": [
    {
     "data": {
      "text/plain": [
       "np.float64(0.044749999999999984)"
      ]
     },
     "execution_count": 21,
     "metadata": {},
     "output_type": "execute_result"
    }
   ],
   "source": [
    "import pandas as pd\n",
    "import numpy as np\n",
    "\n",
    "data = pd.read_csv('./evaluation_table.csv')\n",
    "\n",
    "a = data.loc[data['quantifier'] == 'ACC']\n",
    "a.reset_index(drop=True, inplace=True)\n",
    "\n",
    "aedes = a.loc[a['dataset'] == 'AedesQuinx']\n",
    "np.mean(aedes['abs_error'].tolist())\n",
    "# means = a.groupby('dataset').aggregate(\"mean\")\n",
    "# means\n",
    "# a"
   ]
  }
 ],
 "metadata": {
  "kernelspec": {
   "display_name": "Python 3",
   "language": "python",
   "name": "python3"
  },
  "language_info": {
   "codemirror_mode": {
    "name": "ipython",
    "version": 3
   },
   "file_extension": ".py",
   "mimetype": "text/x-python",
   "name": "python",
   "nbconvert_exporter": "python",
   "pygments_lexer": "ipython3",
   "version": "3.12.4"
  }
 },
 "nbformat": 4,
 "nbformat_minor": 2
}
