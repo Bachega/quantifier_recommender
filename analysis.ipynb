{
 "cells": [
  {
   "cell_type": "markdown",
   "metadata": {},
   "source": [
    "# KNNRecommender"
   ]
  },
  {
   "cell_type": "markdown",
   "metadata": {},
   "source": [
    "Fit KNNRecommender and save the resulting Meta-Table and Model"
   ]
  },
  {
   "cell_type": "code",
   "execution_count": null,
   "metadata": {},
   "outputs": [],
   "source": [
    "from knn_recommender import KNNRecommender\n",
    "\n",
    "recommender = KNNRecommender(supervised=True, _load=False)\n",
    "recommender.fit(complete_data_path=\"./datasets/\", train_data_path=\"./data/train_data/\", test_data_path=\"./data/test_data/\")\n",
    "recommender.save_meta_table(\"./recommender_data/knn_meta_table.h5\")\n",
    "recommender.persist_model(\"./recommender_data/KNNRecommender.joblib\")"
   ]
  },
  {
   "cell_type": "markdown",
   "metadata": {},
   "source": [
    "Using KNNRecommender"
   ]
  },
  {
   "cell_type": "code",
   "execution_count": 1,
   "metadata": {},
   "outputs": [
    {
     "name": "stdout",
     "output_type": "stream",
     "text": [
      "Top 1: DyS with Weight: 0.0912292699822285\n",
      "Top 2: SORD with Weight: 0.09121615578024786\n",
      "Top 3: MS with Weight: 0.09118933512419261\n",
      "Full ranking: ('DyS', 'SORD', 'MS', 'SMM', 'MAX', 'X', 'ACC', 'HDy', 'CC', 'PACC', 'PCC')\n",
      "Sum of weights: 0.9999999999999998\n"
     ]
    }
   ],
   "source": [
    "from knn_recommender import KNNRecommender\n",
    "import pandas as pd\n",
    "\n",
    "# When a KNNRecommender model is instantiated, it automatically loads\n",
    "# the fitted model persisted on the previous step (with _load=True by default).\n",
    "recommender = KNNRecommender()\n",
    "\n",
    "df = pd.read_csv(\"./datasets/winetype.csv\")\n",
    "X = df.drop(columns=[\"class\"]).values\n",
    "y = df[\"class\"].values\n",
    "\n",
    "# Returns two tuples: (quantifiers ranking), (quantifiers weight by their ARR).\n",
    "# First quantifier is best, second quantifier is second best, and so on.\n",
    "ranking, weights = recommender.recommend(X, y)\n",
    "\n",
    "print(f\"Top 1: {ranking[0]} with Weight: {weights[0]}\")\n",
    "print(f\"Top 2: {ranking[1]} with Weight: {weights[1]}\")\n",
    "print(f\"Top 3: {ranking[2]} with Weight: {weights[2]}\")\n",
    "print(f\"Full ranking: {ranking}\")\n",
    "print(f\"Sum of weights: {sum(weights)}\")"
   ]
  },
  {
   "cell_type": "markdown",
   "metadata": {},
   "source": [
    "# RegressionRecommender"
   ]
  },
  {
   "cell_type": "markdown",
   "metadata": {},
   "source": [
    "Fit RegressionRecommender and save the resulting Meta-Table and Model"
   ]
  },
  {
   "cell_type": "code",
   "execution_count": null,
   "metadata": {},
   "outputs": [],
   "source": [
    "from regression_recommender import RegressionRecommender\n",
    "\n",
    "recommender = RegressionRecommender(supervised=True, _load=False)\n",
    "recommender.fit(complete_data_path=\"./datasets/\", train_data_path=\"./data/train_data/\", test_data_path=\"./data/test_data/\")\n",
    "recommender.save_meta_table(\"./recommender_data/regression_meta_table.h5\")\n",
    "recommender.persist_model(\"./recommender_data/RegressionRecommender.joblib\")"
   ]
  },
  {
   "cell_type": "markdown",
   "metadata": {},
   "source": [
    "Using RegressionRecommender"
   ]
  },
  {
   "cell_type": "code",
   "execution_count": 2,
   "metadata": {},
   "outputs": [
    {
     "name": "stdout",
     "output_type": "stream",
     "text": [
      "Top 1: SORD with Weight: 0.1556898116026983\n",
      "Top 2: X with Weight: 0.13255208404701815\n",
      "Top 3: SMM with Weight: 0.13152383834692327\n",
      "Full ranking: ('SORD', 'X', 'SMM', 'MAX', 'DyS', 'HDy', 'ACC', 'PACC', 'CC', 'MS', 'PCC')\n",
      "Sum of weights: 1.0000000000000002\n"
     ]
    }
   ],
   "source": [
    "from regression_recommender import RegressionRecommender\n",
    "import pandas as pd\n",
    "\n",
    "# When a RegressionRecommender model is instantiated, it automatically loads\n",
    "# the fitted model persisted on the previous step (with _load=True by default).\n",
    "recommender = RegressionRecommender()\n",
    "\n",
    "df = pd.read_csv(\"./datasets/winetype.csv\")\n",
    "X = df.drop(columns=[\"class\"]).values\n",
    "y = df[\"class\"].values\n",
    "\n",
    "# Returns two tuples: (quantifiers ranking), (quantifiers weight by their MAE).\n",
    "# First quantifier is best, second quantifier is second best, and so on.\n",
    "ranking, weights = recommender.recommend(X, y)\n",
    "\n",
    "print(f\"Top 1: {ranking[0]} with Weight: {weights[0]}\")\n",
    "print(f\"Top 2: {ranking[1]} with Weight: {weights[1]}\")\n",
    "print(f\"Top 3: {ranking[2]} with Weight: {weights[2]}\")\n",
    "print(f\"Full ranking: {ranking}\")\n",
    "print(f\"Sum of weights: {sum(weights)}\")"
   ]
  },
  {
   "cell_type": "markdown",
   "metadata": {},
   "source": [
    "# EnsembleQuantifier"
   ]
  },
  {
   "cell_type": "markdown",
   "metadata": {},
   "source": [
    "You can use the resulting ranking from a recommender and feed it to the EnsembleQuantifier.\n",
    "\n",
    "For example, we can recommend a ranking of quantifiers for a dataset and then use an ensemble of the\n",
    "Top-k quantifiers to get the positive prevalence of the dataset."
   ]
  },
  {
   "cell_type": "code",
   "execution_count": 3,
   "metadata": {},
   "outputs": [
    {
     "name": "stdout",
     "output_type": "stream",
     "text": [
      "EnsembleQuantifier(ranking=('SORD', 'X', 'SMM', 'MAX', 'DyS', 'HDy', 'ACC', 'PACC', 'CC', 'MS', 'PCC'), weights=[1, 1, 1, 1, 1, 1, 1, 1, 1, 1, 1], method=median)\n",
      "True prevalence: 0.7630769230769231\n",
      "Predicted prevalence: 0.76\n",
      "\n",
      "EnsembleQuantifier(ranking=('SORD', 'X', 'SMM', 'MAX', 'DyS', 'HDy', 'ACC', 'PACC', 'CC', 'MS', 'PCC'), weights=(np.float64(0.1556898116026983), np.float64(0.13255208404701818), np.float64(0.13152383834692327), np.float64(0.11591094835805989), np.float64(0.11428853307711338), np.float64(0.10866110751828068), np.float64(0.06366978915726007), np.float64(0.048393397778182495), np.float64(0.046386796342616186), np.float64(0.044602061300045154), np.float64(0.03832163247180237)), method=weighted)\n",
      "True prevalence: 0.7630769230769231\n",
      "Predicted prevalence: 0.7606429310527548\n",
      "\n",
      "EnsembleQuantifier(ranking=('DyS', 'ACC', 'CC'), weights=(np.float64(0.5094317799381599), np.float64(0.2838028728287671), np.float64(0.20676534723307297)), method=weighted)\n",
      "True prevalence: 0.7630769230769231\n",
      "Predicted prevalence: 0.76059832484683\n"
     ]
    }
   ],
   "source": [
    "from regression_recommender import RegressionRecommender\n",
    "from ensemble_quantifier import EnsembleQuantifier\n",
    "from sklearn.model_selection import train_test_split\n",
    "import pandas as pd\n",
    "import numpy as np\n",
    "\n",
    "# Let's load a dataset\n",
    "df = pd.read_csv(\"./datasets/winetype.csv\")\n",
    "X = df.drop(columns=[\"class\"]).values\n",
    "y = df[\"class\"].values\n",
    "\n",
    "# Instantiate a RegressionRecommender model\n",
    "recommender = RegressionRecommender()\n",
    "\n",
    "# We can use the recommender to get a ranking of quantifiers\n",
    "ranking, weights = recommender.recommend(X, y)\n",
    "\n",
    "# Let's instantiate an EnsembleQuantifier model\n",
    "# and pass the ranking and the Top-k quantifiers to it.\n",
    "# With k = 3, for example.\n",
    "# Now, when we need to get predictions, an ensemble of the Top-3 will be used.\n",
    "ensemble_qtf = EnsembleQuantifier(ranking=ranking)\n",
    "\n",
    "# Split the data into train and test sets\n",
    "X_train, X_test, y_train, y_test = train_test_split(X, y, test_size=0.3, random_state=42)\n",
    "\n",
    "# Fit the ensemble model\n",
    "ensemble_qtf.fit(X_train, y_train)\n",
    "\n",
    "# Predict the positive prevalence of the test set\n",
    "pred_prev = ensemble_qtf.predict(X_test)\n",
    "\n",
    "# Compare the prediction with the truth\n",
    "true_prev = np.sum(y_test) / len(y_test)\n",
    "\n",
    "print(f\"{ensemble_qtf}\")\n",
    "print(f\"True prevalence: {true_prev}\")\n",
    "print(f\"Predicted prevalence: {pred_prev}\")\n",
    "\n",
    "# We can change the method of the EnsembleQuantifier.\n",
    "# Avaliable methods are the following:\n",
    "# - \"median\": returns the median of the predictions\n",
    "# - \"weighted\": returns the weighted average of the predictions\n",
    "#\n",
    "# Default is \"median\".\n",
    "\n",
    "# Let's use the weighted method and pass the weights to the ensemble model.\n",
    "ensemble_qtf.method = \"weighted\"\n",
    "ensemble_qtf.weights = weights\n",
    "\n",
    "# Model is already fitted, so we can predict again\n",
    "pred_prev = ensemble_qtf.predict(X_test)\n",
    "\n",
    "print(f\"\\n{ensemble_qtf}\")\n",
    "print(f\"True prevalence: {true_prev}\")\n",
    "print(f\"Predicted prevalence: {pred_prev}\")\n",
    "\n",
    "# We can also recommend the top- with k = 3 and pass it to the ensemble model.\n",
    "ranking, weights = recommender.recommend(X, y, k=3)\n",
    "\n",
    "ensemble_qtf.ranking = ranking\n",
    "ensemble_qtf.weights = weights\n",
    "\n",
    "# Model is fitted, so we can just predict\n",
    "pred_prev = ensemble_qtf.predict(X_test)\n",
    "\n",
    "print(f\"\\n{ensemble_qtf}\")\n",
    "print(f\"True prevalence: {true_prev}\")\n",
    "print(f\"Predicted prevalence: {pred_prev}\")"
   ]
  },
  {
   "cell_type": "markdown",
   "metadata": {},
   "source": [
    "# Evaluation"
   ]
  },
  {
   "cell_type": "markdown",
   "metadata": {},
   "source": [
    "Evaluate RegressionRecommender with Leave-One-Out"
   ]
  },
  {
   "cell_type": "code",
   "execution_count": 4,
   "metadata": {},
   "outputs": [],
   "source": [
    "from regression_recommender import RegressionRecommender\n",
    "\n",
    "# There is a built-in method to evaluate the RegressionRecommender\n",
    "# using the leave-one-out strategy. It excludes one instance from the\n",
    "# meta-table and uses the remaining instances to fit the model. Then,\n",
    "# it predicts the ranking of the excluded instance and appends the\n",
    "# predicted ranking alongside the true ranking to the recommender evaluation table.\n",
    "recommender = RegressionRecommender()\n",
    "recommender_eval, quantifiers_eval = recommender.leave_one_out_evaluation(\"./plot_data/regression_recommender_evaluation_table.csv\",\n",
    "                                                                          \"./plot_data/regression_recommender_quantifiers_evaluation_table.csv\")"
   ]
  },
  {
   "cell_type": "markdown",
   "metadata": {},
   "source": [
    "We can evaluate the EnsembleQuantifier with APP.\n",
    "\n",
    "APP is very costly, so we don't exactly run it again. Since our model is an ensemble, we reuse the recommender's and the quantifiers evaluation table generated by the recommender. (It will \"run\" the APP on the same datasets used to train the recommender)."
   ]
  },
  {
   "cell_type": "code",
   "execution_count": 5,
   "metadata": {},
   "outputs": [
    {
     "data": {
      "text/html": [
       "<div>\n",
       "<style scoped>\n",
       "    .dataframe tbody tr th:only-of-type {\n",
       "        vertical-align: middle;\n",
       "    }\n",
       "\n",
       "    .dataframe tbody tr th {\n",
       "        vertical-align: top;\n",
       "    }\n",
       "\n",
       "    .dataframe thead th {\n",
       "        text-align: right;\n",
       "    }\n",
       "</style>\n",
       "<table border=\"1\" class=\"dataframe\">\n",
       "  <thead>\n",
       "    <tr style=\"text-align: right;\">\n",
       "      <th></th>\n",
       "      <th>quantifier</th>\n",
       "      <th>dataset</th>\n",
       "      <th>sample_size</th>\n",
       "      <th>sampling_seed</th>\n",
       "      <th>iteration</th>\n",
       "      <th>alpha</th>\n",
       "      <th>pred_prev</th>\n",
       "      <th>abs_error</th>\n",
       "      <th>run_time</th>\n",
       "    </tr>\n",
       "  </thead>\n",
       "  <tbody>\n",
       "    <tr>\n",
       "      <th>0</th>\n",
       "      <td>Top-1</td>\n",
       "      <td>AedesQuinx</td>\n",
       "      <td>100</td>\n",
       "      <td>623</td>\n",
       "      <td>1</td>\n",
       "      <td>0.0</td>\n",
       "      <td>0.000000</td>\n",
       "      <td>0.000000</td>\n",
       "      <td>0.123091</td>\n",
       "    </tr>\n",
       "    <tr>\n",
       "      <th>1</th>\n",
       "      <td>Top-1</td>\n",
       "      <td>AedesQuinx</td>\n",
       "      <td>100</td>\n",
       "      <td>243</td>\n",
       "      <td>2</td>\n",
       "      <td>0.0</td>\n",
       "      <td>0.000000</td>\n",
       "      <td>0.000000</td>\n",
       "      <td>0.116522</td>\n",
       "    </tr>\n",
       "    <tr>\n",
       "      <th>2</th>\n",
       "      <td>Top-1</td>\n",
       "      <td>AedesQuinx</td>\n",
       "      <td>100</td>\n",
       "      <td>18</td>\n",
       "      <td>3</td>\n",
       "      <td>0.0</td>\n",
       "      <td>0.000000</td>\n",
       "      <td>0.000000</td>\n",
       "      <td>0.133319</td>\n",
       "    </tr>\n",
       "    <tr>\n",
       "      <th>3</th>\n",
       "      <td>Top-1</td>\n",
       "      <td>AedesQuinx</td>\n",
       "      <td>100</td>\n",
       "      <td>549</td>\n",
       "      <td>4</td>\n",
       "      <td>0.0</td>\n",
       "      <td>0.000000</td>\n",
       "      <td>0.000000</td>\n",
       "      <td>0.126153</td>\n",
       "    </tr>\n",
       "    <tr>\n",
       "      <th>4</th>\n",
       "      <td>Top-1</td>\n",
       "      <td>AedesQuinx</td>\n",
       "      <td>100</td>\n",
       "      <td>447</td>\n",
       "      <td>5</td>\n",
       "      <td>0.0</td>\n",
       "      <td>0.000000</td>\n",
       "      <td>0.000000</td>\n",
       "      <td>0.126957</td>\n",
       "    </tr>\n",
       "    <tr>\n",
       "      <th>...</th>\n",
       "      <td>...</td>\n",
       "      <td>...</td>\n",
       "      <td>...</td>\n",
       "      <td>...</td>\n",
       "      <td>...</td>\n",
       "      <td>...</td>\n",
       "      <td>...</td>\n",
       "      <td>...</td>\n",
       "      <td>...</td>\n",
       "    </tr>\n",
       "    <tr>\n",
       "      <th>26395</th>\n",
       "      <td>Top-9+W</td>\n",
       "      <td>click-prediction</td>\n",
       "      <td>100</td>\n",
       "      <td>554</td>\n",
       "      <td>6</td>\n",
       "      <td>1.0</td>\n",
       "      <td>0.989238</td>\n",
       "      <td>0.010762</td>\n",
       "      <td>1.902615</td>\n",
       "    </tr>\n",
       "    <tr>\n",
       "      <th>26396</th>\n",
       "      <td>Top-9+W</td>\n",
       "      <td>click-prediction</td>\n",
       "      <td>100</td>\n",
       "      <td>379</td>\n",
       "      <td>7</td>\n",
       "      <td>1.0</td>\n",
       "      <td>0.930627</td>\n",
       "      <td>0.069373</td>\n",
       "      <td>1.905128</td>\n",
       "    </tr>\n",
       "    <tr>\n",
       "      <th>26397</th>\n",
       "      <td>Top-9+W</td>\n",
       "      <td>click-prediction</td>\n",
       "      <td>100</td>\n",
       "      <td>348</td>\n",
       "      <td>8</td>\n",
       "      <td>1.0</td>\n",
       "      <td>0.989628</td>\n",
       "      <td>0.010372</td>\n",
       "      <td>1.911327</td>\n",
       "    </tr>\n",
       "    <tr>\n",
       "      <th>26398</th>\n",
       "      <td>Top-9+W</td>\n",
       "      <td>click-prediction</td>\n",
       "      <td>100</td>\n",
       "      <td>840</td>\n",
       "      <td>9</td>\n",
       "      <td>1.0</td>\n",
       "      <td>0.975554</td>\n",
       "      <td>0.024446</td>\n",
       "      <td>1.911165</td>\n",
       "    </tr>\n",
       "    <tr>\n",
       "      <th>26399</th>\n",
       "      <td>Top-9+W</td>\n",
       "      <td>click-prediction</td>\n",
       "      <td>100</td>\n",
       "      <td>114</td>\n",
       "      <td>10</td>\n",
       "      <td>1.0</td>\n",
       "      <td>0.975445</td>\n",
       "      <td>0.024555</td>\n",
       "      <td>1.898517</td>\n",
       "    </tr>\n",
       "  </tbody>\n",
       "</table>\n",
       "<p>26400 rows × 9 columns</p>\n",
       "</div>"
      ],
      "text/plain": [
       "      quantifier           dataset  sample_size  sampling_seed  iteration  \\\n",
       "0          Top-1        AedesQuinx          100            623          1   \n",
       "1          Top-1        AedesQuinx          100            243          2   \n",
       "2          Top-1        AedesQuinx          100             18          3   \n",
       "3          Top-1        AedesQuinx          100            549          4   \n",
       "4          Top-1        AedesQuinx          100            447          5   \n",
       "...          ...               ...          ...            ...        ...   \n",
       "26395    Top-9+W  click-prediction          100            554          6   \n",
       "26396    Top-9+W  click-prediction          100            379          7   \n",
       "26397    Top-9+W  click-prediction          100            348          8   \n",
       "26398    Top-9+W  click-prediction          100            840          9   \n",
       "26399    Top-9+W  click-prediction          100            114         10   \n",
       "\n",
       "       alpha  pred_prev  abs_error  run_time  \n",
       "0        0.0   0.000000   0.000000  0.123091  \n",
       "1        0.0   0.000000   0.000000  0.116522  \n",
       "2        0.0   0.000000   0.000000  0.133319  \n",
       "3        0.0   0.000000   0.000000  0.126153  \n",
       "4        0.0   0.000000   0.000000  0.126957  \n",
       "...      ...        ...        ...       ...  \n",
       "26395    1.0   0.989238   0.010762  1.902615  \n",
       "26396    1.0   0.930627   0.069373  1.905128  \n",
       "26397    1.0   0.989628   0.010372  1.911327  \n",
       "26398    1.0   0.975554   0.024446  1.911165  \n",
       "26399    1.0   0.975445   0.024555  1.898517  \n",
       "\n",
       "[26400 rows x 9 columns]"
      ]
     },
     "execution_count": 5,
     "metadata": {},
     "output_type": "execute_result"
    }
   ],
   "source": [
    "from ensemble_quantifier import EnsembleQuantifier\n",
    "\n",
    "# We need the recommender evaluation table and the quantifiers evaluation table\n",
    "# generated with the leave_one_out_evaluation method from the RegressionRecommender.\n",
    "ensemble_qtf = EnsembleQuantifier()\n",
    "ensemble_qtf.evaluation(recommender_eval, quantifiers_eval, \"./plot_data/ensemble_quantifier_evaluation_table.csv\")"
   ]
  }
 ],
 "metadata": {
  "kernelspec": {
   "display_name": "Python 3",
   "language": "python",
   "name": "python3"
  },
  "language_info": {
   "codemirror_mode": {
    "name": "ipython",
    "version": 3
   },
   "file_extension": ".py",
   "mimetype": "text/x-python",
   "name": "python",
   "nbconvert_exporter": "python",
   "pygments_lexer": "ipython3",
   "version": "3.12.4"
  }
 },
 "nbformat": 4,
 "nbformat_minor": 2
}
