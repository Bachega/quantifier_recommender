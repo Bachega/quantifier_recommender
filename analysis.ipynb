{
 "cells": [
  {
   "cell_type": "code",
   "execution_count": 8,
   "metadata": {},
   "outputs": [
    {
     "data": {
      "text/plain": [
       "['AedesQuinx',\n",
       " 'AedesSex',\n",
       " 'ArabicDigit',\n",
       " 'BNG',\n",
       " 'HTRU',\n",
       " 'anuranCalls',\n",
       " 'click-prediction',\n",
       " 'cmc',\n",
       " 'covtype_reduced',\n",
       " 'default_credit_card_clients',\n",
       " 'eeg',\n",
       " 'jm1-processed',\n",
       " 'letter-recognition',\n",
       " 'magic',\n",
       " 'mozilla',\n",
       " 'namao']"
      ]
     },
     "execution_count": 8,
     "metadata": {},
     "output_type": "execute_result"
    }
   ],
   "source": [
    "import pandas as pd\n",
    "import numpy as np\n",
    "\n",
    "def load_train_test_data(dataset_name, skip_processed = False):\n",
    "    train_df = pd.read_csv(f\"./data/train_data/{dataset_name}.csv\")\n",
    "    y_train = train_df.pop(train_df.columns[-1])\n",
    "    X_train = train_df\n",
    "\n",
    "    test_df = pd.read_csv(f\"./data/test_data/{dataset_name}.csv\")\n",
    "    y_test = test_df.pop(test_df.columns[-1])\n",
    "    X_test = test_df\n",
    "\n",
    "    return X_train.to_numpy(), y_train.to_numpy(), X_test.to_numpy(), y_test.to_numpy()\n",
    "\n",
    "# def is_already_processed(dataset_path):\n",
    "\n",
    "\n",
    "\n",
    "# evaluation_table = pd.read_csv('./evaluation_table.csv')['dataset'].unique().tolist()\n",
    "# evaluation_table\n",
    "# evaluation_table.columns\n",
    "# evaluation_table['dataset'].unique().tolist()\n",
    "\n"
   ]
  }
 ],
 "metadata": {
  "kernelspec": {
   "display_name": "Python 3",
   "language": "python",
   "name": "python3"
  },
  "language_info": {
   "codemirror_mode": {
    "name": "ipython",
    "version": 3
   },
   "file_extension": ".py",
   "mimetype": "text/x-python",
   "name": "python",
   "nbconvert_exporter": "python",
   "pygments_lexer": "ipython3",
   "version": "3.12.4"
  }
 },
 "nbformat": 4,
 "nbformat_minor": 2
}
