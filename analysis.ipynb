{
 "cells": [
  {
   "cell_type": "code",
   "execution_count": 1,
   "metadata": {},
   "outputs": [],
   "source": [
    "from knn_recommender import KNNRecommender\n",
    "\n",
    "knn_recommender = KNNRecommender(supervised=True, _load=False)\n",
    "knn_recommender.fit(complete_data_path=\"./datasets/\", train_data_path=\"./data/train_data/\", test_data_path=\"./data/test_data/\")"
   ]
  },
  {
   "cell_type": "code",
   "execution_count": 3,
   "metadata": {},
   "outputs": [
    {
     "data": {
      "text/html": [
       "<div>\n",
       "<style scoped>\n",
       "    .dataframe tbody tr th:only-of-type {\n",
       "        vertical-align: middle;\n",
       "    }\n",
       "\n",
       "    .dataframe tbody tr th {\n",
       "        vertical-align: top;\n",
       "    }\n",
       "\n",
       "    .dataframe thead th {\n",
       "        text-align: right;\n",
       "    }\n",
       "</style>\n",
       "<table border=\"1\" class=\"dataframe\">\n",
       "  <thead>\n",
       "    <tr style=\"text-align: right;\">\n",
       "      <th></th>\n",
       "      <th>dataset</th>\n",
       "      <th>inv_abs_error</th>\n",
       "      <th>run_time</th>\n",
       "    </tr>\n",
       "    <tr>\n",
       "      <th>quantifier</th>\n",
       "      <th></th>\n",
       "      <th></th>\n",
       "      <th></th>\n",
       "    </tr>\n",
       "  </thead>\n",
       "  <tbody>\n",
       "    <tr>\n",
       "      <th>ACC</th>\n",
       "      <td>AedesQuinx</td>\n",
       "      <td>0.95540</td>\n",
       "      <td>0.000282</td>\n",
       "    </tr>\n",
       "    <tr>\n",
       "      <th>CC</th>\n",
       "      <td>AedesQuinx</td>\n",
       "      <td>0.91420</td>\n",
       "      <td>0.000011</td>\n",
       "    </tr>\n",
       "    <tr>\n",
       "      <th>DyS</th>\n",
       "      <td>AedesQuinx</td>\n",
       "      <td>0.96185</td>\n",
       "      <td>0.044581</td>\n",
       "    </tr>\n",
       "    <tr>\n",
       "      <th>HDy</th>\n",
       "      <td>AedesQuinx</td>\n",
       "      <td>0.94875</td>\n",
       "      <td>0.196264</td>\n",
       "    </tr>\n",
       "    <tr>\n",
       "      <th>MAX</th>\n",
       "      <td>AedesQuinx</td>\n",
       "      <td>0.95730</td>\n",
       "      <td>0.000190</td>\n",
       "    </tr>\n",
       "    <tr>\n",
       "      <th>MS</th>\n",
       "      <td>AedesQuinx</td>\n",
       "      <td>0.95955</td>\n",
       "      <td>0.021148</td>\n",
       "    </tr>\n",
       "    <tr>\n",
       "      <th>PACC</th>\n",
       "      <td>AedesQuinx</td>\n",
       "      <td>0.92375</td>\n",
       "      <td>0.002801</td>\n",
       "    </tr>\n",
       "    <tr>\n",
       "      <th>PCC</th>\n",
       "      <td>AedesQuinx</td>\n",
       "      <td>0.87625</td>\n",
       "      <td>0.002469</td>\n",
       "    </tr>\n",
       "    <tr>\n",
       "      <th>SMM</th>\n",
       "      <td>AedesQuinx</td>\n",
       "      <td>0.95925</td>\n",
       "      <td>0.000143</td>\n",
       "    </tr>\n",
       "    <tr>\n",
       "      <th>SORD</th>\n",
       "      <td>AedesQuinx</td>\n",
       "      <td>0.96060</td>\n",
       "      <td>1.389139</td>\n",
       "    </tr>\n",
       "    <tr>\n",
       "      <th>X</th>\n",
       "      <td>AedesQuinx</td>\n",
       "      <td>0.95625</td>\n",
       "      <td>0.000319</td>\n",
       "    </tr>\n",
       "  </tbody>\n",
       "</table>\n",
       "</div>"
      ],
      "text/plain": [
       "               dataset  inv_abs_error  run_time\n",
       "quantifier                                     \n",
       "ACC         AedesQuinx        0.95540  0.000282\n",
       "CC          AedesQuinx        0.91420  0.000011\n",
       "DyS         AedesQuinx        0.96185  0.044581\n",
       "HDy         AedesQuinx        0.94875  0.196264\n",
       "MAX         AedesQuinx        0.95730  0.000190\n",
       "MS          AedesQuinx        0.95955  0.021148\n",
       "PACC        AedesQuinx        0.92375  0.002801\n",
       "PCC         AedesQuinx        0.87625  0.002469\n",
       "SMM         AedesQuinx        0.95925  0.000143\n",
       "SORD        AedesQuinx        0.96060  1.389139\n",
       "X           AedesQuinx        0.95625  0.000319"
      ]
     },
     "execution_count": 3,
     "metadata": {},
     "output_type": "execute_result"
    }
   ],
   "source": [
    "import pandas as pd\n",
    "\n",
    "eval_tab = pd.read_csv(\"./eval_table.csv\", index_col=0)\n",
    "\n",
    "eval_tab"
   ]
  },
  {
   "cell_type": "markdown",
   "metadata": {},
   "source": [
    "Fit QuantifierRecommender and save the resulting Meta-Table and Model"
   ]
  },
  {
   "cell_type": "code",
   "execution_count": 1,
   "metadata": {},
   "outputs": [],
   "source": [
    "from regression_recommender import RegressionRecommender\n",
    "\n",
    "# recommender = RegressionRecommender(supervised=True, _load=False)\n",
    "# recommender.fit(complete_data_path=\"./datasets/\", train_data_path=\"./data/train_data/\", test_data_path=\"./data/test_data/\")\n",
    "# recommender.save_meta_table(\"./recommender_data/meta_table.h5\")\n",
    "# recommender.persist_model()"
   ]
  },
  {
   "cell_type": "markdown",
   "metadata": {},
   "source": [
    "Evaluate QuantifierRecommender with Leave-One-Out"
   ]
  },
  {
   "cell_type": "code",
   "execution_count": 3,
   "metadata": {},
   "outputs": [],
   "source": [
    "from regression_recommender import RegressionRecommender\n",
    "\n",
    "recommender = RegressionRecommender(supervised=True)\n",
    "# recommender.load_fit_meta_table(\"./recommender_data/meta_table.h5\")\n",
    "recommender_eval, quantifiers_eval = recommender.leave_one_out_evaluation(\"./plot_data/recommender_evaluation_table.csv\",\n",
    "                                                                          \"./plot_data/quantifiers_evaluation_table.csv\")"
   ]
  },
  {
   "cell_type": "markdown",
   "metadata": {},
   "source": [
    "Evaluate the KQuantifier for each dataset using APP"
   ]
  },
  {
   "cell_type": "code",
   "execution_count": 2,
   "metadata": {},
   "outputs": [],
   "source": [
    "from k_quantifier import KQuantifier\n",
    "\n",
    "k_quantifier = KQuantifier()\n",
    "k_quantifier_eval = k_quantifier.evaluation(recommender_eval, quantifiers_eval, \"./plot_data/k_quantifier_evaluation_table.csv\")"
   ]
  },
  {
   "cell_type": "markdown",
   "metadata": {},
   "source": [
    "Join the Quantifiers Evaluation Table with the KQuantifier Evaluation Table"
   ]
  },
  {
   "cell_type": "code",
   "execution_count": 3,
   "metadata": {},
   "outputs": [],
   "source": [
    "import pandas as pd\n",
    "\n",
    "complete_evaluation_table = pd.concat([quantifiers_eval, k_quantifier_eval], axis=0)\n",
    "complete_evaluation_table.to_csv(\"./plot_data/complete_evaluation_table.csv\", index=False)"
   ]
  },
  {
   "cell_type": "markdown",
   "metadata": {},
   "source": [
    "Example of using the KQuantifier"
   ]
  },
  {
   "cell_type": "code",
   "execution_count": 3,
   "metadata": {},
   "outputs": [],
   "source": [
    "from k_quantifier import KQuantifier\n",
    "import pandas as pd\n",
    "import numpy as np\n",
    "from utils_ import load_train_test_data\n",
    "from sklearn.preprocessing import MinMaxScaler\n",
    "import pdb\n",
    "\n",
    "from sklearn.datasets import load_iris\n",
    "from sklearn.model_selection import train_test_split\n",
    "from sklearn.datasets import load_breast_cancer\n",
    "from sklearn.preprocessing import StandardScaler\n",
    "from sklearn.linear_model import LogisticRegression\n",
    "\n",
    "dataset = pd.read_csv(\"./datasets/AedesQuinx.csv\")\n",
    "scaler = MinMaxScaler()\n",
    "\n",
    "y = dataset.pop(dataset.columns[-1])\n",
    "y = y.to_numpy()\n",
    "X = dataset.to_numpy()\n",
    "# X = scaler.fit_transform(dataset)\n",
    "# X = np.c_[X, y]\n",
    "X_train, X_test, y_train, y_test = train_test_split(X, y, test_size=0.3, random_state=42)\n",
    "\n",
    "X_train2, y_train2, X_test2, y_test2 = load_train_test_data(dataset_name=\"AedesQuinx\",\n",
    "                                                            train_data_path=\"./data/train_data\",\n",
    "                                                            test_data_path=\"./data/test_data\")\n",
    "\n",
    "\n",
    "cancer = load_breast_cancer()\n",
    "\n",
    "# Features (X) and labels (y)\n",
    "X = cancer.data\n",
    "y = cancer.target\n",
    "\n",
    "# Split the dataset into training and test sets\n",
    "# test_size=0.2 means 20% of data will go to the test set, 80% to the train set\n",
    "X_train, X_test, y_train, y_test = train_test_split(X, y, test_size=0.2, random_state=42)\n",
    "\n",
    "# k_quantifier_median = KQuantifier(k=-1, method=\"median\")\n",
    "k_quantifier_weighted = KQuantifier(k=-1, method=\"weighted\")\n",
    "\n",
    "# k_quantifier_median.fit(X_train2, y_train2)\n",
    "k_quantifier_weighted.fit(X_train2, y_train2)\n"
   ]
  },
  {
   "cell_type": "code",
   "execution_count": 4,
   "metadata": {},
   "outputs": [],
   "source": [
    "ranking = k_quantifier_weighted.predict(X_test2)"
   ]
  },
  {
   "cell_type": "code",
   "execution_count": null,
   "metadata": {},
   "outputs": [],
   "source": [
    "ranking"
   ]
  },
  {
   "cell_type": "code",
   "execution_count": 17,
   "metadata": {},
   "outputs": [],
   "source": [
    "error_list = recommender_eval.loc['AedesQuinx']['predicted_ranking_error']\n",
    "k = 3\n",
    "error_list\n",
    "\n",
    "weight_list = [0.5, 0.3, 0.2]\n",
    "k_prev = [0.3, 0.26, 0.35]\n",
    "\n",
    "final_k_prev = np.sum(np.array(k_prev) * np.array(weight_list))"
   ]
  },
  {
   "cell_type": "code",
   "execution_count": null,
   "metadata": {},
   "outputs": [],
   "source": [
    "print(0.5 * 0.3 + 0.3 * 0.26 + 0.2 * 0.35)"
   ]
  },
  {
   "cell_type": "code",
   "execution_count": null,
   "metadata": {},
   "outputs": [],
   "source": [
    "final_k_prev"
   ]
  },
  {
   "cell_type": "code",
   "execution_count": null,
   "metadata": {},
   "outputs": [],
   "source": [
    "print(f\"MEDIAN: {k_quantifier_median.predict(X_test2)}\\nWEIGHTED: {k_quantifier_weighted.predict(X_test2)}\\nTRUE: {sum(y_test2)/len(y_test2)}\")"
   ]
  },
  {
   "cell_type": "code",
   "execution_count": null,
   "metadata": {},
   "outputs": [],
   "source": [
    "import pandas as pd\n",
    "\n",
    "k_eval = pd.read_csv(\"./plot_data/k_quantifier_evaluation_table.csv\")\n",
    "k_eval = k_eval[k_eval['dataset'] == 'AedesQuinx']\n",
    "k_eval = k_eval[k_eval['alpha'] == 0.11]\n",
    "k_eval"
   ]
  }
 ],
 "metadata": {
  "kernelspec": {
   "display_name": "Python 3",
   "language": "python",
   "name": "python3"
  },
  "language_info": {
   "codemirror_mode": {
    "name": "ipython",
    "version": 3
   },
   "file_extension": ".py",
   "mimetype": "text/x-python",
   "name": "python",
   "nbconvert_exporter": "python",
   "pygments_lexer": "ipython3",
   "version": "3.12.4"
  }
 },
 "nbformat": 4,
 "nbformat_minor": 2
}
