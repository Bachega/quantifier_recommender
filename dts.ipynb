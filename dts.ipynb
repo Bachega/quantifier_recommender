{
 "cells": [
  {
   "cell_type": "code",
   "execution_count": null,
   "metadata": {},
   "outputs": [],
   "source": [
    "from utils.generate_full_train_test_sets import generate_full_train_test_sets\n",
    "\n",
    "generate_full_train_test_sets(source_path=\"./data/datasets/\",\n",
    "                              full_dest_path=\"./data/full_set/\",\n",
    "                              train_dest_path=\"./data/train_set/\",\n",
    "                              test_dest_path=\"./data/test_set/\",\n",
    "                              scaling_method=\"zscore\")"
   ]
  }
 ],
 "metadata": {
  "kernelspec": {
   "display_name": "Python 3",
   "language": "python",
   "name": "python3"
  },
  "language_info": {
   "codemirror_mode": {
    "name": "ipython",
    "version": 3
   },
   "file_extension": ".py",
   "mimetype": "text/x-python",
   "name": "python",
   "nbconvert_exporter": "python",
   "pygments_lexer": "ipython3",
   "version": "3.12.4"
  }
 },
 "nbformat": 4,
 "nbformat_minor": 2
}
