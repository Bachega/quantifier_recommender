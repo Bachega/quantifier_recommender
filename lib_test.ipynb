{
 "cells": [
  {
   "cell_type": "code",
   "execution_count": 18,
   "metadata": {},
   "outputs": [
    {
     "name": "stdout",
     "output_type": "stream",
     "text": [
      "{0: 0.24345952600800247, 1: 0.7565404739919975}\n",
      "0.24345952600800247\n"
     ]
    }
   ],
   "source": [
    "from mlquantify.methods import PWK\n",
    "from mlquantify.classification import PWKCLF\n",
    "\n",
    "from quantifiers.PWK import PWK as _PWK\n",
    "from quantifiers.PWKCLF import PWKCLF as _PWKCLF\n",
    "\n",
    "import pandas as pd\n",
    "import numpy as np\n",
    "from sklearn.linear_model import LogisticRegression\n",
    "# from sklearn.neighbors import PWKCLF\n",
    "\n",
    "\n",
    "\n",
    "dts_train = pd.read_csv(\"./data/train_set/winetype.csv\")\n",
    "dts_test = pd.read_csv(\"./data/test_set/winetype.csv\")\n",
    "\n",
    "y_train = dts_train.pop('class').to_numpy()\n",
    "X_train = dts_train.values\n",
    "\n",
    "y_test = dts_test.pop('class').to_numpy()\n",
    "X_test = dts_test.values\n",
    "\n",
    "\n",
    "# type(X)\n",
    "# knn = LogisticRegression()\n",
    "knn = PWKCLF()\n",
    "pwk = PWK(learner=knn)\n",
    "pwk.fit(X_train, y_train)\n",
    "print(pwk.predict(X_test))\n",
    "\n",
    "_pwk_clf = _PWKCLF()\n",
    "_pwk_clf.fit(X_train, y_train)\n",
    "print(_PWK(X_test, _pwk_clf)[1])\n"
   ]
  }
 ],
 "metadata": {
  "kernelspec": {
   "display_name": "venv",
   "language": "python",
   "name": "python3"
  },
  "language_info": {
   "codemirror_mode": {
    "name": "ipython",
    "version": 3
   },
   "file_extension": ".py",
   "mimetype": "text/x-python",
   "name": "python",
   "nbconvert_exporter": "python",
   "pygments_lexer": "ipython3",
   "version": "3.12.4"
  }
 },
 "nbformat": 4,
 "nbformat_minor": 2
}
