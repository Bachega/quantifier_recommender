{
 "cells": [
  {
   "cell_type": "code",
   "execution_count": 2,
   "metadata": {},
   "outputs": [
    {
     "name": "stdout",
     "output_type": "stream",
     "text": [
      "{0: 0.23186823794206657, 1: 0.7681317620579334}\n",
      "     threshold       fpr       tpr\n",
      "0         0.00  1.000000  1.000000\n",
      "1         0.01  0.273939  0.999587\n",
      "2         0.02  0.193939  0.999587\n",
      "3         0.03  0.157576  0.999587\n",
      "4         0.04  0.126061  0.999175\n",
      "..         ...       ...       ...\n",
      "96        0.96  0.007273  0.953364\n",
      "97        0.97  0.007273  0.941808\n",
      "98        0.98  0.007273  0.919521\n",
      "99        0.99  0.006061  0.859265\n",
      "100       1.00  0.000000  0.000000\n",
      "\n",
      "[101 rows x 3 columns]\n",
      "(np.float64(0.7688532465670048), np.float64(0.23114675343299518))\n"
     ]
    }
   ],
   "source": [
    "from mlquantify.methods import CC, ACC, MAX, PCC, PACC, X_method, MS, MS2, HDy, SMM, SORD, DyS, PWK, T50, EMQ\n",
    "from mlquantify.classification import PWKCLF\n",
    "\n",
    "from quantifiers.T50 import T50 as _T50\n",
    "\n",
    "from sklearn.ensemble import RandomForestClassifier\n",
    "\n",
    "\n",
    "\n",
    "import pandas as pd\n",
    "import numpy as np\n",
    "from sklearn.linear_model import LogisticRegression\n",
    "\n",
    "from utils.getTPRFPR import getTPRFPR\n",
    "from utils.getTrainingScores import getTrainingScores\n",
    "# from sklearn.neighbors import PWKCLF\n",
    "\n",
    "dts_train = pd.read_csv(\"./data/train_set/winetype.csv\")\n",
    "dts_test = pd.read_csv(\"./data/test_set/winetype.csv\")\n",
    "\n",
    "y_train = dts_train.pop('class').to_numpy()\n",
    "X_train = dts_train.values\n",
    "\n",
    "y_test = dts_test.pop('class').to_numpy()\n",
    "X_test = dts_test.values\n",
    "\n",
    "clf = LogisticRegression(random_state=42)\n",
    "scores = getTrainingScores(X_train, y_train, 10, clf)[0]\n",
    "tprfpr = getTPRFPR(scores)\n",
    "test_scores = clf.predict_proba(X_test)[:,1]\n",
    "_dts_test = pd.DataFrame(X_test)\n",
    "\n",
    "\n",
    "\n",
    "cc = CC(learner=clf)\n",
    "acc = ACC(learner=LogisticRegression(random_state=42))\n",
    "max = MAX(learner=clf)\n",
    "pcc = PCC(learner=clf)\n",
    "pacc = PACC(learner=clf)\n",
    "x_method = X_method(learner=clf)\n",
    "ms = MS(learner=clf)\n",
    "ms2 = MS2(learner=clf)\n",
    "hdy = HDy(learner=clf)\n",
    "smm = SMM(learner=clf)\n",
    "sord = SORD(learner=clf)\n",
    "dys = DyS(learner=clf)\n",
    "pwk = PWK(learner=PWKCLF())\n",
    "t50 = T50(learner=clf)\n",
    "emq = EMQ(learner=clf)\n",
    "\n",
    "cc.fit(X_train, y_train)\n",
    "acc.fit(X_train, y_train)\n",
    "max.fit(X_train, y_train)\n",
    "pcc.fit(X_train, y_train)\n",
    "pacc.fit(X_train, y_train)\n",
    "x_method.fit(X_train, y_train)\n",
    "ms.fit(X_train, y_train)\n",
    "ms2.fit(X_train, y_train)\n",
    "hdy.fit(X_train, y_train)\n",
    "smm.fit(X_train, y_train)\n",
    "sord.fit(X_train, y_train)\n",
    "dys.fit(X_train, y_train)\n",
    "pwk.fit(X_train, y_train)\n",
    "# t50.fit(X_train, y_train)\n",
    "# emq.fit(X_train, y_train)\n",
    "\n",
    "\n",
    "cc.learner == acc.learner\n",
    "\n",
    "# print(cc.predict(X_test))\n",
    "\n",
    "# acc.fit(X_train, y_train)\n",
    "# print(acc.predict(X_test))\n",
    "\n",
    "# max.fit(X_train, y_train)\n",
    "# print(max.predict(X_test))\n",
    "\n",
    "# pcc.fit(X_train, y_train)\n",
    "# print(pcc.predict(X_test))\n",
    "\n",
    "# pacc.fit(X_train, y_train)\n",
    "# print(pacc.predict(X_test))\n",
    "\n",
    "# x_method.fit(X_train, y_train)\n",
    "# print(x_method.predict(X_test))\n",
    "\n",
    "# ms.fit(X_train, y_train)\n",
    "# print(ms.predict(X_test))\n",
    "\n",
    "# ms2.fit(X_train, y_train)\n",
    "# print(ms2.predict(X_test))\n",
    "\n",
    "# hdy.fit(X_train, y_train)\n",
    "# print(hdy.predict(X_test))\n",
    "\n",
    "# smm.fit(X_train, y_train)\n",
    "# print(smm.predict(X_test))\n",
    "\n",
    "# sord.fit(X_train, y_train)\n",
    "# print(sord.predict(X_test))\n",
    "\n",
    "# dys.fit(X_train, y_train)\n",
    "# print(dys.predict(X_test))\n",
    "\n",
    "# pwk.fit(X_train, y_train)\n",
    "# print(pwk.predict(X_test))\n",
    "\n",
    "# t50.fit(X_train, y_train)\n",
    "# print(t50.predict(X_test))\n",
    "\n",
    "# emq.fit(X_train, y_train)\n",
    "# # print(emq.predict(X_test))\n",
    "# a = emq.predict(X_test)\n",
    "# print()\n",
    "# a\n",
    "\n",
    "t50.fit(X_train, y_train)\n",
    "print(t50.predict(X_test))\n",
    "\n",
    "# t50._g_probabilities[0][0]\n",
    "\n",
    "print(_T50(test_scores=test_scores, tprfpr=tprfpr))"
   ]
  },
  {
   "cell_type": "code",
   "execution_count": null,
   "metadata": {},
   "outputs": [],
   "source": [
    "tpr = tprfpr['tpr'].to_numpy()\n",
    "fpr = tprfpr['fpr'].to_numpy()\n",
    "tpr"
   ]
  },
  {
   "cell_type": "code",
   "execution_count": null,
   "metadata": {},
   "outputs": [],
   "source": [
    "t50._g_tprs"
   ]
  },
  {
   "cell_type": "code",
   "execution_count": null,
   "metadata": {},
   "outputs": [],
   "source": [
    "pos = scores[scores['class'] == 1]\n",
    "neg = scores[scores['class'] == 0]"
   ]
  },
  {
   "cell_type": "code",
   "execution_count": null,
   "metadata": {},
   "outputs": [],
   "source": [
    "# t50._g_probabilities\n",
    "np_pos = pos['scores'].to_numpy()\n",
    "np_neg = neg['scores'].to_numpy()\n",
    "np_pos\n",
    "combined = np.array(list(zip(np_pos, np_neg)))\n",
    "combined"
   ]
  },
  {
   "cell_type": "code",
   "execution_count": null,
   "metadata": {},
   "outputs": [],
   "source": [
    "t50._g_probabilities"
   ]
  },
  {
   "cell_type": "code",
   "execution_count": null,
   "metadata": {},
   "outputs": [],
   "source": [
    "pos_scores = scores[scores['class'] == 1].to_numpy()\n",
    "pos_scores"
   ]
  },
  {
   "cell_type": "code",
   "execution_count": null,
   "metadata": {},
   "outputs": [],
   "source": [
    "import mlquantify as mq\n",
    "\n",
    "\n",
    "mq.methods.ACC"
   ]
  }
 ],
 "metadata": {
  "kernelspec": {
   "display_name": "venv",
   "language": "python",
   "name": "python3"
  },
  "language_info": {
   "codemirror_mode": {
    "name": "ipython",
    "version": 3
   },
   "file_extension": ".py",
   "mimetype": "text/x-python",
   "name": "python",
   "nbconvert_exporter": "python",
   "pygments_lexer": "ipython3",
   "version": "3.12.4"
  }
 },
 "nbformat": 4,
 "nbformat_minor": 2
}
